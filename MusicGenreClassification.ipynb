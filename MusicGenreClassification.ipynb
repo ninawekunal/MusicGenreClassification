{
  "nbformat": 4,
  "nbformat_minor": 0,
  "metadata": {
    "colab": {
      "name": "MusicGenreClassification.ipynb",
      "provenance": []
    },
    "kernelspec": {
      "name": "python3",
      "display_name": "Python 3"
    },
    "language_info": {
      "name": "python"
    }
  },
  "cells": [
    {
      "cell_type": "markdown",
      "metadata": {
        "id": "nC42fB13bA25"
      },
      "source": [
        "#Music Genre Classification:"
      ]
    },
    {
      "cell_type": "markdown",
      "metadata": {
        "id": "omkkWf7aL0k8"
      },
      "source": [
        "**Dataset**: https://www.kaggle.com/andradaolteanu/gtzan-dataset-music-genre-classification"
      ]
    },
    {
      "cell_type": "markdown",
      "metadata": {
        "id": "XYwr_U1SbGpK"
      },
      "source": [
        "###Prepare a dataset:\n",
        " - extract the inputs and the target from the music dataset, like labels and mfcc's,\n",
        " - store that in a json file to use it later on in the neural network.\n",
        " - You could normalize the mfcc's if there are very large."
      ]
    },
    {
      "cell_type": "code",
      "metadata": {
        "id": "SmuWjuZLkhVz"
      },
      "source": [
        "import librosa\n",
        "import os\n",
        "import math\n",
        "import json"
      ],
      "execution_count": null,
      "outputs": []
    },
    {
      "cell_type": "code",
      "metadata": {
        "id": "80nP1-fpk1N8"
      },
      "source": [
        "DATASET_PATH = \"Data/genres_original\"\n",
        "JSON_PATH = \"data.json\"\n",
        "SAMPLE_RATE = 22050  # in hertz\n",
        "DURATION = 30 #seconds\n",
        "SAMPLES_PER_TRACK = SAMPLE_RATE*DURATION"
      ],
      "execution_count": null,
      "outputs": []
    },
    {
      "cell_type": "code",
      "metadata": {
        "id": "4PAGmFHCbJXT"
      },
      "source": [
        "def save_mfcc(dataset_path, json_path, n_mfcc=13, n_fft=2048, hop_length=512, num_segments=5):\n",
        "  # num_segments is used to train the machine learning model since we have less data.\n",
        "  # json_path is where we will be saving all the labels for the sound track.\n",
        "  # hop_length is used for librosa, which tells by how much interval we should go to the next frame.\n",
        "  # n_fft = # of intervals we want in one Fast Fourier Transform.\n",
        "\n",
        "  #Steps: \n",
        "\n",
        "  # 1. Build Dictionary to store the data.\n",
        "  data = {\n",
        "      \"mapping\": [],                          # mapping different genre labels to numbers.\n",
        "      \"mfcc\": [],                             # mfcc's are the training inputs\n",
        "      \"labels\": []                            # labels are the target/outputs of the ML model.\n",
        "      # Classical is 0, blues is 1.\n",
        "  }\n",
        "  num_samples_per_segment = int(SAMPLES_PER_TRACK / num_segments)\n",
        "  expected_num_mfcc_vectors_per_segment = math.ceil(num_samples_per_segment / hop_length)\n",
        "\n",
        "  # 2. Loop through all the genres folders and analyze all the songs.\n",
        "  for i, (dirpath, dirnames, filenames) in enumerate(os.walk(dataset_path)):\n",
        "    \n",
        "    # ensure that we are not at the root level\n",
        "    if dirpath is not dataset_path:\n",
        "      #save semantic label in mapping\n",
        "      dirpath_components = dirpath.split(\"/\")  #genre/blues => [genre, blues]\n",
        "      semantic_label = dirpath_components[-1]  # -1 means last index\n",
        "      data[\"mapping\"].append(semantic_label)\n",
        "      print(\"\\nProcessing {}\".format(semantic_label))\n",
        "\n",
        "      # process files for a specific genre:\n",
        "      for f in filenames:\n",
        "        file_path = os.path.join(dirpath, f) # load the audio file here.\n",
        "        signal, sr = librosa.load(file_path, sr=SAMPLE_RATE)\n",
        "\n",
        "        # Process segments to extract mfcc and store them.\n",
        "        for s in range(num_segments):\n",
        "          start_sample = num_samples_per_segment * s # s is the current segment.\n",
        "          # for s = 0, start sample = 0, finish sample = 0 + # samples per segment.\n",
        "          finish_sample = start_sample + num_samples_per_segment\n",
        "          # These two variables are used to analyze just a slice of the signal.\n",
        "\n",
        "          mfcc = librosa.feature.mfcc(signal[start_sample:finish_sample], \n",
        "                                      sr=sr, \n",
        "                                      n_mfcc=n_mfcc,\n",
        "                                      n_fft=n_fft,\n",
        "                                      hop_length=hop_length)\n",
        "          \n",
        "          mfcc = mfcc.T\n",
        "          \n",
        "          # store mfcc for segment if it has expected length:\n",
        "          if len(mfcc) == expected_num_mfcc_vectors_per_segment:\n",
        "            data[\"mfcc\"].append(mfcc.tolist())   \n",
        "            # to save it as a json file, cast mfcc(numpy array) to a list.\n",
        "            data[\"labels\"].append(i - 1)\n",
        "            print(\"{}, segment: {}\".format(file_path, s))\n",
        "  with open(json_path, \"w\") as fp:\n",
        "    json.dump(data, fp, indent=4)\n"
      ],
      "execution_count": null,
      "outputs": []
    },
    {
      "cell_type": "code",
      "metadata": {
        "id": "7zhr-eLOI09m"
      },
      "source": [
        "save_mfcc(DATASET_PATH, JSON_PATH, num_segments=10)"
      ],
      "execution_count": null,
      "outputs": []
    },
    {
      "cell_type": "markdown",
      "metadata": {
        "id": "oipkm8k0JOOF"
      },
      "source": [
        "###Neural Network for Multiclass classification:"
      ]
    },
    {
      "cell_type": "code",
      "metadata": {
        "id": "nkcZxPGYVf5S"
      },
      "source": [
        "import json\n",
        "import numpy as np\n",
        "import pandas as pd\n",
        "from sklearn.model_selection import train_test_split\n",
        "import tensorflow.keras as keras\n",
        "import matplotlib.pyplot as plt"
      ],
      "execution_count": null,
      "outputs": []
    },
    {
      "cell_type": "markdown",
      "metadata": {
        "id": "NwNVDB-4UfMr"
      },
      "source": [
        "####**Load the data:**\n",
        "- You can upload the data.json file directly and use it next time"
      ]
    },
    {
      "cell_type": "code",
      "metadata": {
        "id": "m9QmuD6GVKDL"
      },
      "source": [
        "def load_data(dataset_path):\n",
        "  with open(dataset_path, \"r\") as fp:\n",
        "    data = json.load(fp)\n",
        "  # convert list into numpy arrays\n",
        "  inputs = np.array(data[\"mfcc\"])\n",
        "  targets = np.array(data[\"labels\"])\n",
        "\n",
        "  return inputs, targets"
      ],
      "execution_count": null,
      "outputs": []
    },
    {
      "cell_type": "code",
      "metadata": {
        "colab": {
          "base_uri": "https://localhost:8080/"
        },
        "id": "DfHDd324V3IA",
        "outputId": "604cd807-aeed-42ef-a388-14960db4d9cd"
      },
      "source": [
        "inputs, targets = load_data(\"data.json\")\n",
        "print(inputs.shape)\n",
        "print(targets.shape)"
      ],
      "execution_count": null,
      "outputs": [
        {
          "output_type": "stream",
          "text": [
            "(9986, 130, 13)\n",
            "(9986,)\n"
          ],
          "name": "stdout"
        }
      ]
    },
    {
      "cell_type": "code",
      "metadata": {
        "colab": {
          "base_uri": "https://localhost:8080/"
        },
        "id": "HOWpfHP443fF",
        "outputId": "7d36476a-a569-48df-f6aa-051b29a28c6c"
      },
      "source": [
        "print(inputs[0][0])"
      ],
      "execution_count": null,
      "outputs": [
        {
          "output_type": "stream",
          "text": [
            "[-59.85346985  91.09191895   8.5219698   44.98475266  -2.88676095\n",
            "  36.67208099 -13.05821609  17.09495735 -12.34591484   4.52206421\n",
            " -12.92686462   8.2150259   -2.40410709]\n"
          ],
          "name": "stdout"
        }
      ]
    },
    {
      "cell_type": "markdown",
      "metadata": {
        "id": "E5nroInjvsm_"
      },
      "source": [
        "**Scaling/transforming the data:**"
      ]
    },
    {
      "cell_type": "code",
      "metadata": {
        "id": "MZW7Lx6Ovv5R"
      },
      "source": [
        "from sklearn.preprocessing import MaxAbsScaler"
      ],
      "execution_count": null,
      "outputs": []
    },
    {
      "cell_type": "code",
      "metadata": {
        "id": "A9Ey-H4bvxIm"
      },
      "source": [
        "# create a dataframe for inputs and target\n",
        "inputs_copy = inputs.copy()\n",
        "df_inputs = pd.DataFrame(inputs_copy)\n",
        "df_targets = pd.DataFrame(targets)\n",
        "\n",
        "# create an abs_scaler object\n",
        "abs_scaler = MaxAbsScaler()\n",
        "\n",
        "# calculate the maximum absolute value for scaling the data using the fit method\n",
        "abs_scaler.fit(df_inputs)\n",
        "\n",
        "# the maximum absolute values calculated by the fit method\n",
        "abs_scaler.max_abs_\n",
        "# array([4.0e+05, 1.7e+01])\n",
        "\n",
        "# transform the data using the parameters calculated by the fit method (the maximum absolute values)\n",
        "scaled_data = abs_scaler.transform(df_inputs)\n",
        "\n",
        "# store the results in a data frame\n",
        "df_scaled_input = pd.DataFrame(scaled_data, columns=df_inputs.columns)\n",
        "\n",
        "# visualize the data frame\n",
        "df_scaled_input\n"
      ],
      "execution_count": null,
      "outputs": []
    },
    {
      "cell_type": "markdown",
      "metadata": {
        "id": "xKgEmuDKU8fI"
      },
      "source": [
        "**Split the data into training and test:**"
      ]
    },
    {
      "cell_type": "code",
      "metadata": {
        "id": "oOaoFwsIWZXi"
      },
      "source": [
        "Xtr, Xts, ytr, yts = train_test_split(inputs, targets, test_size=0.3)"
      ],
      "execution_count": null,
      "outputs": []
    },
    {
      "cell_type": "markdown",
      "metadata": {
        "id": "Ej0FKOGDVAqJ"
      },
      "source": [
        "**Build the network architecture:**"
      ]
    },
    {
      "cell_type": "markdown",
      "metadata": {
        "id": "PdCcqS40YYci"
      },
      "source": [
        "**Rectified Linear Unit(ReLU):** \n",
        " - an activation function used in a keras neural network.\n",
        " - Has a better convergence than a Sigmoid function\n",
        " - Reduced probability of vanishing gradient.\n",
        " - when compared to the sigmoid, it enabled us to train the model way faster."
      ]
    },
    {
      "cell_type": "code",
      "metadata": {
        "id": "UP1MpL_bWooH"
      },
      "source": [
        "model = keras.Sequential([\n",
        "    # input layer: Flatten takes a multidimension array and flattens it out.\n",
        "    # 1st dim = incibels, 2nd dim = values for MFCC (13 mfcc's will be extracted.)\n",
        "    # index 0 represent different segments.\n",
        "          keras.layers.Flatten(input_shape=(inputs.shape[1], inputs.shape[2])),\n",
        "\n",
        "    # hidden layer 1: \n",
        "    #1st par = 512 neurons, relu = Rectified Linear Unit or ReLU\n",
        "          keras.layers.Dense(512, activation=\"relu\"),\n",
        "    # hidden layer 2: \n",
        "    #1st par = 512 neurons, relu = Rectified Linear Unit or ReLU\n",
        "          keras.layers.Dense(256, activation=\"relu\"),\n",
        "    # hidden layer 3: \n",
        "    #1st par = 512 neurons, relu = Rectified Linear Unit or ReLU\n",
        "          keras.layers.Dense(64, activation=\"relu\"),\n",
        "    # output layer:\n",
        "          keras.layers.Dense(10, activation=\"softmax\")\n",
        "    # since we have 10 labels, we're putting 10 here. \n",
        "    # we then pick the neuron which has the highest value\n",
        "    # This neuron will represent the category we are trying to predict.\n",
        "\n",
        "])"
      ],
      "execution_count": null,
      "outputs": []
    },
    {
      "cell_type": "markdown",
      "metadata": {
        "id": "rwZPBvGuVESm"
      },
      "source": [
        "**Compile the network:**\n",
        "- using the *adam* optimizer is a variation of the classic gradient descent.\n",
        "- is very effective while used with deep learning.\n",
        "- we are using the \"*sparse_categorical_crossentropy*\" as our loss function because this is a multiclass classification problem."
      ]
    },
    {
      "cell_type": "code",
      "metadata": {
        "colab": {
          "base_uri": "https://localhost:8080/"
        },
        "id": "PONV2fHbbhpm",
        "outputId": "f15861b6-f9c9-42c4-f7ca-5d8c64731dd4"
      },
      "source": [
        "optimizer = keras.optimizers.Adam(learning_rate=0.0001, clipnorm=1)\n",
        "model.compile(optimizer=optimizer, \n",
        "              loss=\"sparse_categorical_crossentropy\", \n",
        "              metrics=[\"accuracy\"])\n",
        "model.summary()"
      ],
      "execution_count": null,
      "outputs": [
        {
          "output_type": "stream",
          "text": [
            "Model: \"sequential\"\n",
            "_________________________________________________________________\n",
            "Layer (type)                 Output Shape              Param #   \n",
            "=================================================================\n",
            "flatten (Flatten)            (None, 1690)              0         \n",
            "_________________________________________________________________\n",
            "dense (Dense)                (None, 512)               865792    \n",
            "_________________________________________________________________\n",
            "dropout (Dropout)            (None, 512)               0         \n",
            "_________________________________________________________________\n",
            "dense_1 (Dense)              (None, 256)               131328    \n",
            "_________________________________________________________________\n",
            "dropout_1 (Dropout)          (None, 256)               0         \n",
            "_________________________________________________________________\n",
            "dense_2 (Dense)              (None, 64)                16448     \n",
            "_________________________________________________________________\n",
            "dropout_2 (Dropout)          (None, 64)                0         \n",
            "_________________________________________________________________\n",
            "dense_3 (Dense)              (None, 10)                650       \n",
            "=================================================================\n",
            "Total params: 1,014,218\n",
            "Trainable params: 1,014,218\n",
            "Non-trainable params: 0\n",
            "_________________________________________________________________\n"
          ],
          "name": "stdout"
        }
      ]
    },
    {
      "cell_type": "markdown",
      "metadata": {
        "id": "IlxJIqxIVG-r"
      },
      "source": [
        "**Train the network:**"
      ]
    },
    {
      "cell_type": "markdown",
      "metadata": {
        "id": "Lc50lzRAdNXl"
      },
      "source": [
        "**Types of batching:**\n",
        "- *Stochastic:*\n",
        "    - calculate gradient on 1 sample.\n",
        "    - quick, but inaccurate.\n",
        "    - eg: batch_size = 1\n",
        "- *Full batch:*\n",
        "    - Compute Gradient on the whole training set\n",
        "    - Slow, memory intensive but accurate\n",
        "- *Mini Batch:*\n",
        "    - Compute data on a subset of data set(16-128 samples can be choosen)\n",
        "    - best of the above.\n"
      ]
    },
    {
      "cell_type": "code",
      "metadata": {
        "id": "tgaxQT4wc1Hj"
      },
      "source": [
        "history = model.fit(Xtr, ytr, \n",
        "          validation_data=(Xts, yts),\n",
        "          epochs=50,\n",
        "          batch_size=128)"
      ],
      "execution_count": null,
      "outputs": []
    },
    {
      "cell_type": "code",
      "metadata": {
        "id": "4bcm3Mb2gCRe"
      },
      "source": [
        "def plot_history(history):\n",
        "  # build subplots for error and accuracy.\n",
        "  fig, axis = plt.subplots(2)\n",
        "\n",
        "  # create accuracy subplot\n",
        "  axis[0].plot(history.history[\"accuracy\"], label=\"train accuracy\")\n",
        "  axis[0].plot(history.history[\"val_accuracy\"], label=\"test accuracy\")\n",
        "  axis[0].set_ylabel(\"Accuracy\")\n",
        "  axis[0].legend(loc=\"lower right\")\n",
        "  axis[0].set_title(\"Accuracy evaluation\")\n",
        "\n",
        "  # create error subplot\n",
        "  axis[1].plot(history.history[\"loss\"], label=\"train error\")\n",
        "  axis[1].plot(history.history[\"val_loss\"], label=\"test error\")\n",
        "  axis[1].set_ylabel(\"Error\")\n",
        "  axis[1].set_xlabel(\"Epochs\")\n",
        "  axis[1].legend(loc=\"upper right\")\n",
        "  axis[1].set_title(\"Error evaluation\")\n",
        "\n",
        "  plt.show()\n"
      ],
      "execution_count": null,
      "outputs": []
    },
    {
      "cell_type": "code",
      "metadata": {
        "colab": {
          "base_uri": "https://localhost:8080/",
          "height": 295
        },
        "id": "dZVxyHGuhwzX",
        "outputId": "98467c9e-2c06-4de0-afaa-eb6c2b8fac94"
      },
      "source": [
        "plot_history(history)"
      ],
      "execution_count": null,
      "outputs": [
        {
          "output_type": "display_data",
          "data": {
            "image/png": "[encoded data removed]",
            "text/plain": [
              "<Figure size 432x288 with 2 Axes>"
            ]
          },
          "metadata": {
            "tags": [],
            "needs_background": "light"
          }
        }
      ]
    },
    {
      "cell_type": "markdown",
      "metadata": {
        "id": "5qSbi-ZUfM65"
      },
      "source": [
        "###Solving overfitting:"
      ]
    },
    {
      "cell_type": "markdown",
      "metadata": {
        "id": "nzvxxa3IjHGG"
      },
      "source": [
        "####**To solve overfitting:**\n",
        " - Simpler architecture\n",
        "    - remove some layers\n",
        "    - Decrease # neurons in each layer\n",
        "    - just hit and trail methods\n",
        " - Audio Data Augmentation\n",
        "    - Artificially increase # of training samples\n",
        "    - apply transformations to audio files as: \n",
        "        - pitch shifting\n",
        "        - time stretching\n",
        "        - adding background noise\n",
        " - Early stopping: \n",
        "    - choose rules to stop the training.\n",
        "    - Eg: after 7 iterations, if error does not decrease, stop the training. \n",
        "    - how many epochs to wait before stopping.\n",
        " - Dropout:\n",
        "  - randomly drop neurons while training.\n",
        "  - this increases network robustness.\n",
        "  - Dropout probability: 0.1 - 0.5 (has a 10 - 50% of dropping neurons in different layers.)\n",
        "  - performed dropout in the hidden layers above.\n",
        " - Regularization:\n",
        "  - Add penalty to error function \n",
        "  - Punish Large weights\n",
        "  - L1 regularization\n",
        "    - L1: minimize abs of the weights.\n",
        "    - robust to outliers\n",
        "    - lambda is the regularization hyper parameter we can tweak.\n",
        "    - generates simpler models.\n",
        "  - L2 regularization: \n",
        "    - minimizes squared value of weights\n",
        "    - not robust to outliers\n",
        "    - But it learns complex patterns\n",
        "    - doing L2 regularization above.\n",
        "\n",
        "*NOTE:* Use L2 regularization in music and speech."
      ]
    },
    {
      "cell_type": "code",
      "metadata": {
        "id": "vVdFc_jPO-zc"
      },
      "source": [
        "model = keras.Sequential([\n",
        "    # input layer: Flatten takes a multidimension array and flattens it out.\n",
        "    # 1st dim = incibels, 2nd dim = values for MFCC (13 mfcc's will be extracted.)\n",
        "    # index 0 represent different segments.\n",
        "          keras.layers.Flatten(input_shape=(inputs.shape[1], inputs.shape[2])),\n",
        "\n",
        "    # hidden layer 1: \n",
        "    #1st par = 512 neurons, relu = Rectified Linear Unit or ReLU\n",
        "          keras.layers.Dense(512, activation=\"relu\"),\n",
        "          keras.layers.Dropout(rate=0.3),\n",
        "    # hidden layer 2: \n",
        "    #1st par = 512 neurons, relu = Rectified Linear Unit or ReLU\n",
        "          keras.layers.Dense(256, activation=\"relu\"),\n",
        "          keras.layers.Dropout(rate=0.3),\n",
        "    # hidden layer 3: \n",
        "    #1st par = 512 neurons, relu = Rectified Linear Unit or ReLU\n",
        "          keras.layers.Dense(64, activation=\"relu\"),\n",
        "          keras.layers.Dropout(rate=0.3),\n",
        "    # output layer:\n",
        "          keras.layers.Dense(10, activation=\"softmax\")\n",
        "          \n",
        "    # since we have 10 labels, we're putting 10 here. \n",
        "    # we then pick the neuron which has the highest value\n",
        "    # This neuron will represent the category we are trying to predict.\n",
        "\n",
        "])"
      ],
      "execution_count": null,
      "outputs": []
    },
    {
      "cell_type": "code",
      "metadata": {
        "colab": {
          "base_uri": "https://localhost:8080/"
        },
        "id": "l3180kA6PQSb",
        "outputId": "c64083ac-f544-4dbe-a9bc-3ac2cb9d61f1"
      },
      "source": [
        "optimizer = keras.optimizers.Adam(learning_rate=0.0001, clipnorm=1)\n",
        "model.compile(optimizer=optimizer, \n",
        "              loss=\"sparse_categorical_crossentropy\", \n",
        "              metrics=[\"accuracy\"])\n",
        "model.summary()"
      ],
      "execution_count": null,
      "outputs": [
        {
          "output_type": "stream",
          "text": [
            "Model: \"sequential_1\"\n",
            "_________________________________________________________________\n",
            "Layer (type)                 Output Shape              Param #   \n",
            "=================================================================\n",
            "flatten_1 (Flatten)          (None, 1690)              0         \n",
            "_________________________________________________________________\n",
            "dense_4 (Dense)              (None, 512)               865792    \n",
            "_________________________________________________________________\n",
            "dropout_3 (Dropout)          (None, 512)               0         \n",
            "_________________________________________________________________\n",
            "dense_5 (Dense)              (None, 256)               131328    \n",
            "_________________________________________________________________\n",
            "dropout_4 (Dropout)          (None, 256)               0         \n",
            "_________________________________________________________________\n",
            "dense_6 (Dense)              (None, 64)                16448     \n",
            "_________________________________________________________________\n",
            "dropout_5 (Dropout)          (None, 64)                0         \n",
            "_________________________________________________________________\n",
            "dense_7 (Dense)              (None, 10)                650       \n",
            "=================================================================\n",
            "Total params: 1,014,218\n",
            "Trainable params: 1,014,218\n",
            "Non-trainable params: 0\n",
            "_________________________________________________________________\n"
          ],
          "name": "stdout"
        }
      ]
    },
    {
      "cell_type": "code",
      "metadata": {
        "id": "ldE9LGGxPVbG"
      },
      "source": [
        "history = model.fit(Xtr, ytr, \n",
        "          validation_data=(Xts, yts),\n",
        "          epochs=50,\n",
        "          batch_size=128)"
      ],
      "execution_count": null,
      "outputs": []
    },
    {
      "cell_type": "code",
      "metadata": {
        "colab": {
          "base_uri": "https://localhost:8080/",
          "height": 295
        },
        "id": "dtDigX23PZo7",
        "outputId": "4f3c0087-5541-47d0-d622-f9eff9ca11a2"
      },
      "source": [
        "plot_history(history)"
      ],
      "execution_count": null,
      "outputs": [
        {
          "output_type": "display_data",
          "data": {
            "image/png": "[encoded data removed]",
            "text/plain": [
              "<Figure size 432x288 with 2 Axes>"
            ]
          },
          "metadata": {
            "tags": [],
            "needs_background": "light"
          }
        }
      ]
    },
    {
      "cell_type": "code",
      "metadata": {
        "id": "21q3e5xRPjlZ"
      },
      "source": [
        "model.predict(Xts, yts)"
      ],
      "execution_count": null,
      "outputs": []
    },
    {
      "cell_type": "code",
      "metadata": {
        "id": "FHoxGhPfPoxZ"
      },
      "source": [
        ""
      ],
      "execution_count": null,
      "outputs": []
    },
    {
      "cell_type": "markdown",
      "metadata": {
        "id": "I_xbromCjBAz"
      },
      "source": [
        "**Saving the model in pickle file finally:**"
      ]
    },
    {
      "cell_type": "code",
      "metadata": {
        "id": "J4TEy7iwp22n",
        "colab": {
          "base_uri": "https://localhost:8080/"
        },
        "outputId": "61f3bfe8-ece7-42be-f004-b53b650000f6"
      },
      "source": [
        "from keras.models import load_model\n",
        "\n",
        "model.save('model_audio_final_neural.h5')\n",
        "print(\"Saved model successfully\")"
      ],
      "execution_count": null,
      "outputs": [
        {
          "output_type": "stream",
          "text": [
            "Saved model successfully\n"
          ],
          "name": "stdout"
        }
      ]
    },
    {
      "cell_type": "code",
      "metadata": {
        "id": "M6Ynr1Dsp37B"
      },
      "source": [
        "# filename = 'model_audio_final_neural.pkl'\n",
        "# pickle.dump(model, open(filename, 'wb'))\n",
        "# keras.models.save_model(model=model, filepath=\"/model\", overwrite=True)"
      ],
      "execution_count": null,
      "outputs": []
    },
    {
      "cell_type": "code",
      "metadata": {
        "id": "ormoQgfLsayI",
        "colab": {
          "base_uri": "https://localhost:8080/",
          "height": 17
        },
        "outputId": "af05416e-0f3c-495f-a234-a485d984ff22"
      },
      "source": [
        "from google.colab import files\n",
        "files.download('model_audio_final_neural.h5')"
      ],
      "execution_count": null,
      "outputs": [
        {
          "output_type": "display_data",
          "data": {
            "application/javascript": [
              "\n",
              "    async function download(id, filename, size) {\n",
              "      if (!google.colab.kernel.accessAllowed) {\n",
              "        return;\n",
              "      }\n",
              "      const div = document.createElement('div');\n",
              "      const label = document.createElement('label');\n",
              "      label.textContent = `Downloading \"${filename}\": `;\n",
              "      div.appendChild(label);\n",
              "      const progress = document.createElement('progress');\n",
              "      progress.max = size;\n",
              "      div.appendChild(progress);\n",
              "      document.body.appendChild(div);\n",
              "\n",
              "      const buffers = [];\n",
              "      let downloaded = 0;\n",
              "\n",
              "      const channel = await google.colab.kernel.comms.open(id);\n",
              "      // Send a message to notify the kernel that we're ready.\n",
              "      channel.send({})\n",
              "\n",
              "      for await (const message of channel.messages) {\n",
              "        // Send a message to notify the kernel that we're ready.\n",
              "        channel.send({})\n",
              "        if (message.buffers) {\n",
              "          for (const buffer of message.buffers) {\n",
              "            buffers.push(buffer);\n",
              "            downloaded += buffer.byteLength;\n",
              "            progress.value = downloaded;\n",
              "          }\n",
              "        }\n",
              "      }\n",
              "      const blob = new Blob(buffers, {type: 'application/binary'});\n",
              "      const a = document.createElement('a');\n",
              "      a.href = window.URL.createObjectURL(blob);\n",
              "      a.download = filename;\n",
              "      div.appendChild(a);\n",
              "      a.click();\n",
              "      div.remove();\n",
              "    }\n",
              "  "
            ],
            "text/plain": [
              "<IPython.core.display.Javascript object>"
            ]
          },
          "metadata": {
            "tags": []
          }
        },
        {
          "output_type": "display_data",
          "data": {
            "application/javascript": [
              "download(\"download_3e3f70e7-ea91-4963-b7f8-a4b7bc034b26\", \"model_audio_final_neural.h5\", 12212488)"
            ],
            "text/plain": [
              "<IPython.core.display.Javascript object>"
            ]
          },
          "metadata": {
            "tags": []
          }
        }
      ]
    },
    {
      "cell_type": "markdown",
      "metadata": {
        "id": "GbQheYvD6mZc"
      },
      "source": [
        "###**Implementing a CNN for music Genre classification:**"
      ]
    },
    {
      "cell_type": "markdown",
      "metadata": {
        "id": "0uZuT_yQ6rZZ"
      },
      "source": [
        "####**Creating train and test validation sets:**"
      ]
    },
    {
      "cell_type": "code",
      "metadata": {
        "id": "uSxRnq7K7hg1"
      },
      "source": [
        "def prepare_datasets(test_size=0.3, validation_size=0.2):\n",
        "  # Load data  -> use the load function created above.\n",
        "  X, y = load_data(\"data.json\")\n",
        "\n",
        "  # Create the train test split\n",
        "  Xtr, Xts, ytr, yts = train_test_split(X, y, test_size=test_size)\n",
        "\n",
        "  # create train validation split. -> Each sample is of shape: (130# time bins, 13#mfccs)\n",
        "  Xtr, Xval, ytr, yval = train_test_split(Xtr, ytr, test_size=validation_size)\n",
        "\n",
        "  # Tensorflow's CNN expects a 3D(2D + channel) array for each sample, but our sample is of 2D.\n",
        "  # adding extra dimesions.\n",
        "  Xtr = Xtr[..., np.newaxis]   # 4D Array now -> (#samples, 130, 13, 1)\n",
        "  Xval = Xval[..., np.newaxis]\n",
        "  Xts = Xts[..., np.newaxis]\n",
        "\n",
        "  return Xtr, Xval, Xts, ytr, yval, yts\n"
      ],
      "execution_count": null,
      "outputs": []
    },
    {
      "cell_type": "code",
      "metadata": {
        "id": "nSL8kL0g6yNY"
      },
      "source": [
        "Xtr, Xval, Xts, ytr, yval, yts = prepare_datasets(test_size=0.25, validation_size=0.2)"
      ],
      "execution_count": null,
      "outputs": []
    },
    {
      "cell_type": "markdown",
      "metadata": {
        "id": "V_9j5b3b6ykg"
      },
      "source": [
        "####**Build the CNN Network:**"
      ]
    },
    {
      "cell_type": "code",
      "metadata": {
        "id": "0dOIkene-YMh"
      },
      "source": [
        "import tensorflow.keras as keras"
      ],
      "execution_count": null,
      "outputs": []
    },
    {
      "cell_type": "code",
      "metadata": {
        "id": "dxoDuMlc95q9"
      },
      "source": [
        "def build_model(input_shape):\n",
        "  # Create a CNN model: with 3 CNN layers with a max pooling layer.\n",
        "  model = keras.Sequential()\n",
        "\n",
        "  # 1st conv Layer\n",
        "  model.add(keras.layers.Conv2D(filters=32, kernel_size=(3, 3), activation='relu', input_shape=input_shape))\n",
        "  model.add(keras.layers.MaxPool2D(pool_size=(3, 3), strides=(2, 2), padding='same'))  # Max pooling layer.\n",
        "  model.add(keras.layers.BatchNormalization())  \n",
        "  # Batch normaliztion complicated math process that normalizes activations in current and subsequent layers. \n",
        "  # Speeds ups training a lot faster by converging faster.\n",
        "\n",
        "  # 2nd Conv Layer\n",
        "  model.add(keras.layers.Conv2D(filters=32, kernel_size=(3, 3), activation='relu', input_shape=input_shape))\n",
        "  model.add(keras.layers.MaxPool2D(pool_size=(3, 3), strides=(2, 2), padding='same'))  # Max pooling layer.\n",
        "  model.add(keras.layers.BatchNormalization())\n",
        "\n",
        "  # 3rd Conv Layer\n",
        "  model.add(keras.layers.Conv2D(filters=32, kernel_size=(2, 2), activation='relu', input_shape=input_shape))\n",
        "  model.add(keras.layers.MaxPool2D(pool_size=(2, 2), strides=(2, 2), padding='same'))  # Max pooling layer.\n",
        "  model.add(keras.layers.BatchNormalization())\n",
        "\n",
        "  # Flatten output and feed in dense layer\n",
        "  model.add(keras.layers.Flatten())\n",
        "  model.add(keras.layers.Dense(units=64, activation='relu'))\n",
        "  model.add(keras.layers.Dropout(rate=0.3))    # to avoid overfitting, use dropout layer\n",
        "\n",
        "  # Output layer that uses softmax\n",
        "  model.add(keras.layers.Dense(units=10, activation='softmax')) \n",
        "  # Take index with highest value and map that to a corresponding genre.\n",
        "\n",
        "  return model"
      ],
      "execution_count": null,
      "outputs": []
    },
    {
      "cell_type": "code",
      "metadata": {
        "id": "sz1Q6J5Z638a"
      },
      "source": [
        "input_shape = (Xtr.shape[1], Xtr.shape[2], Xtr.shape[3])   # tuple\n",
        "model = build_model(input_shape)"
      ],
      "execution_count": null,
      "outputs": []
    },
    {
      "cell_type": "markdown",
      "metadata": {
        "id": "cSpECJKP64pV"
      },
      "source": [
        "####**Compile the network:**"
      ]
    },
    {
      "cell_type": "code",
      "metadata": {
        "id": "tPYC8WiR66vA"
      },
      "source": [
        "optimizer = keras.optimizers.Adam(learning_rate=0.0001)\n",
        "model.compile(optimizer=optimizer, loss='sparse_categorical_crossentropy', metrics=['accuracy'])"
      ],
      "execution_count": null,
      "outputs": []
    },
    {
      "cell_type": "markdown",
      "metadata": {
        "id": "fwU4JLFL67aK"
      },
      "source": [
        "####**Train the CNN:**"
      ]
    },
    {
      "cell_type": "code",
      "metadata": {
        "id": "VIK8UsQQ69Bb"
      },
      "source": [
        "history = model.fit(Xtr, ytr, validation_data=(Xval, yval), batch_size=32, epochs=30, verbose=1)"
      ],
      "execution_count": null,
      "outputs": []
    },
    {
      "cell_type": "markdown",
      "metadata": {
        "id": "LIHlOoZ_69te"
      },
      "source": [
        "####**Evaluate CNN on test set:**"
      ]
    },
    {
      "cell_type": "code",
      "metadata": {
        "colab": {
          "base_uri": "https://localhost:8080/"
        },
        "id": "b5brIJoU7ATu",
        "outputId": "620dd8f9-5ccb-4465-a602-8948672ffb4e"
      },
      "source": [
        "test_error, test_accuracy = model.evaluate(Xts, yts)\n",
        "print(\"Accuracy on test set is: \", test_accuracy)\n",
        "print(\"Error is: \", test_error)"
      ],
      "execution_count": null,
      "outputs": [
        {
          "output_type": "stream",
          "text": [
            "79/79 [==============================] - 0s 2ms/step - loss: 0.8106 - accuracy: 0.7217\n",
            "Accuracy on test set is:  0.7216659784317017\n",
            "Error is:  0.8105977773666382\n"
          ],
          "name": "stdout"
        }
      ]
    },
    {
      "cell_type": "markdown",
      "metadata": {
        "id": "CgcT6Ssl7A4Q"
      },
      "source": [
        "####**Make prediction on a sample:**\n",
        "\n",
        "_Prediction_ is a 2D array and we have 10 values representing different scores for 10 genres.\n",
        "\n",
        "We can get the index and then map it to a corresponding genre."
      ]
    },
    {
      "cell_type": "code",
      "metadata": {
        "id": "RzHR9TsWDXc4"
      },
      "source": [
        "def predict(model, X, y):\n",
        "  mapping = np.array(['disco', 'reggae', 'rock', 'pop', 'blues', 'country', 'jazz', 'classical', 'metal', 'hiphop'])\n",
        "  X = X[np.newaxis, ...] # copy new axis in front\n",
        "  prediction = model.predict(X)   \n",
        "  # X is a 3D Array (130, 13, 1), but model.predict expects 4D array of (1 #batch to predict, 130, 13, 1)\n",
        "  \n",
        "  # Get index where we have max value\n",
        "  predicted_index = np.argmax(prediction, axis=1)   # 1D array, where value = 0->9\n",
        "  print(\"Expected genre: {} and predicted genre is: {}\".format(mapping[y], mapping[predicted_index[0]]))\n"
      ],
      "execution_count": null,
      "outputs": []
    },
    {
      "cell_type": "code",
      "metadata": {
        "colab": {
          "base_uri": "https://localhost:8080/"
        },
        "id": "QE_IcjDM7DfL",
        "outputId": "7ba3f88a-56e2-4f04-c9de-3b44c7951b24"
      },
      "source": [
        "X = Xts[101]   # take sample at index 100\n",
        "y = yts[101]   # do the same for y\n",
        "predict(model, X, y)"
      ],
      "execution_count": null,
      "outputs": [
        {
          "output_type": "stream",
          "text": [
            "Expected genre: jazz and predicted genre is: jazz\n"
          ],
          "name": "stdout"
        }
      ]
    },
    {
      "cell_type": "code",
      "metadata": {
        "id": "t15PJ_imGPSC"
      },
      "source": [
        "# for i in range(0, Xts.shape[0]):\n",
        "#   X = Xts[i]\n",
        "#   y = yts[i]\n",
        "#   predict(model, X, y)"
      ],
      "execution_count": null,
      "outputs": []
    },
    {
      "cell_type": "markdown",
      "metadata": {
        "id": "gXuokERCHCAb"
      },
      "source": [
        "####**Saving the model:**"
      ]
    },
    {
      "cell_type": "code",
      "metadata": {
        "colab": {
          "base_uri": "https://localhost:8080/"
        },
        "id": "mG-N7n-UHDWj",
        "outputId": "7c3cf7f1-fb6a-4c72-a6e5-03b1371ee0dd"
      },
      "source": [
        "model.save(\"trained_CNN_model\")\n",
        "print(\"Model Saved successfully\")"
      ],
      "execution_count": null,
      "outputs": [
        {
          "output_type": "stream",
          "text": [
            "INFO:tensorflow:Assets written to: trained_CNN_model/assets\n",
            "Model Saved successfully\n"
          ],
          "name": "stdout"
        }
      ]
    },
    {
      "cell_type": "code",
      "metadata": {
        "colab": {
          "base_uri": "https://localhost:8080/",
          "height": 139
        },
        "id": "Nx4-hb_mH-ru",
        "outputId": "3202159b-270c-46de-b98c-d1160095c765"
      },
      "source": [
        "# Zipping the folder to download this\n",
        "from google.colab import files\n",
        "!zip -r ./trained_CNN_model.zip ./trained_CNN_model/\n",
        "print(\"Zip file created.. Downloading the folder now...\")\n",
        "files.download('trained_CNN_model.zip')"
      ],
      "execution_count": null,
      "outputs": [
        {
          "output_type": "stream",
          "text": [
            "updating: trained_CNN_model/ (stored 0%)\n",
            "updating: trained_CNN_model/variables/ (stored 0%)\n",
            "updating: trained_CNN_model/variables/variables.data-00000-of-00001 (deflated 10%)\n",
            "updating: trained_CNN_model/variables/variables.index (deflated 71%)\n",
            "updating: trained_CNN_model/assets/ (stored 0%)\n",
            "updating: trained_CNN_model/saved_model.pb (deflated 90%)\n",
            "Zip file created.. Downloading the folder now...\n"
          ],
          "name": "stdout"
        },
        {
          "output_type": "display_data",
          "data": {
            "application/javascript": [
              "\n",
              "    async function download(id, filename, size) {\n",
              "      if (!google.colab.kernel.accessAllowed) {\n",
              "        return;\n",
              "      }\n",
              "      const div = document.createElement('div');\n",
              "      const label = document.createElement('label');\n",
              "      label.textContent = `Downloading \"${filename}\": `;\n",
              "      div.appendChild(label);\n",
              "      const progress = document.createElement('progress');\n",
              "      progress.max = size;\n",
              "      div.appendChild(progress);\n",
              "      document.body.appendChild(div);\n",
              "\n",
              "      const buffers = [];\n",
              "      let downloaded = 0;\n",
              "\n",
              "      const channel = await google.colab.kernel.comms.open(id);\n",
              "      // Send a message to notify the kernel that we're ready.\n",
              "      channel.send({})\n",
              "\n",
              "      for await (const message of channel.messages) {\n",
              "        // Send a message to notify the kernel that we're ready.\n",
              "        channel.send({})\n",
              "        if (message.buffers) {\n",
              "          for (const buffer of message.buffers) {\n",
              "            buffers.push(buffer);\n",
              "            downloaded += buffer.byteLength;\n",
              "            progress.value = downloaded;\n",
              "          }\n",
              "        }\n",
              "      }\n",
              "      const blob = new Blob(buffers, {type: 'application/binary'});\n",
              "      const a = document.createElement('a');\n",
              "      a.href = window.URL.createObjectURL(blob);\n",
              "      a.download = filename;\n",
              "      div.appendChild(a);\n",
              "      a.click();\n",
              "      div.remove();\n",
              "    }\n",
              "  "
            ],
            "text/plain": [
              "<IPython.core.display.Javascript object>"
            ]
          },
          "metadata": {
            "tags": []
          }
        },
        {
          "output_type": "display_data",
          "data": {
            "application/javascript": [
              "download(\"download_9fc67f7d-aecc-43f2-801b-1932e4046d04\", \"trained_CNN_model.zip\", 537072)"
            ],
            "text/plain": [
              "<IPython.core.display.Javascript object>"
            ]
          },
          "metadata": {
            "tags": []
          }
        }
      ]
    },
    {
      "cell_type": "markdown",
      "metadata": {
        "id": "0XDB3ffjHLFc"
      },
      "source": [
        "####**Loading the model back:**"
      ]
    },
    {
      "cell_type": "code",
      "metadata": {
        "colab": {
          "base_uri": "https://localhost:8080/"
        },
        "id": "QgTTUKQzHUy2",
        "outputId": "eb10f817-c8ed-41ca-f3a7-70358bfd93a3"
      },
      "source": [
        "reconstructed_model = keras.models.load_model(\"trained_CNN_model\")\n",
        "print(\"Model loaded successfully...\")"
      ],
      "execution_count": null,
      "outputs": [
        {
          "output_type": "stream",
          "text": [
            "Model loaded successfully...\n"
          ],
          "name": "stdout"
        }
      ]
    },
    {
      "cell_type": "code",
      "metadata": {
        "id": "ifORm_qfHbgQ"
      },
      "source": [
        ""
      ],
      "execution_count": null,
      "outputs": []
    }
  ]
}